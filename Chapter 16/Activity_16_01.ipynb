{
  "nbformat": 4,
  "nbformat_minor": 0,
  "metadata": {
    "colab": {
      "name": "Activity 16_01.ipynb",
      "provenance": [],
      "collapsed_sections": []
    },
    "kernelspec": {
      "name": "python3",
      "display_name": "Python 3"
    },
    "language_info": {
      "name": "python"
    }
  },
  "cells": [
    {
      "cell_type": "markdown",
      "source": [
        "## **Activity 16.01: Guided Exercise**\n",
        "### Perform all the steps learned through Chapter 16, and apply on the Chronic Kidney disease Dataset.Extensive data cleaning is done beforehand. Start after that:"
      ],
      "metadata": {
        "id": "GIO_Oc0-00PR"
      }
    },
    {
      "cell_type": "markdown",
      "source": [
        "### Importing modules"
      ],
      "metadata": {
        "id": "u1lm1tcF06VK"
      }
    },
    {
      "cell_type": "code",
      "execution_count": 139,
      "metadata": {
        "id": "DHkHVZAlInQn"
      },
      "outputs": [],
      "source": [
        "import pandas as pd"
      ]
    },
    {
      "cell_type": "markdown",
      "source": [
        "###Loading data"
      ],
      "metadata": {
        "id": "IlSDqqgg0-nE"
      }
    },
    {
      "cell_type": "code",
      "source": [
        "\n",
        "filename = 'https://raw.githubusercontent.com/OsamaAkhlaq/DS_Book/main/Chapter%2016/kidney_disease.csv'\n",
        "# Loading the data using pandas\n",
        "\n",
        "Data = pd.read_csv(filename)\n",
        "Data.head()"
      ],
      "metadata": {
        "id": "JNpUa4gEI2nl"
      },
      "execution_count": null,
      "outputs": []
    },
    {
      "cell_type": "markdown",
      "source": [
        "### Dropping id column"
      ],
      "metadata": {
        "id": "v9zJLK45iUJr"
      }
    },
    {
      "cell_type": "code",
      "source": [
        "\n",
        "Data.drop('id', axis = 1, inplace = True)"
      ],
      "metadata": {
        "id": "y4v6rVcLXzFn"
      },
      "execution_count": 114,
      "outputs": []
    },
    {
      "cell_type": "code",
      "source": [
        "Data.columns = ['age', 'blood_pressure', 'specific_gravity', 'albumin', 'sugar', 'red_blood_cells', 'pus_cell',\n",
        "              'pus_cell_clumps', 'bacteria', 'blood_glucose_random', 'blood_urea', 'serum_creatinine', 'sodium',\n",
        "              'potassium', 'haemoglobin', 'packed_cell_volume', 'white_blood_cell_count', 'red_blood_cell_count',\n",
        "              'hypertension', 'diabetes_mellitus', 'coronary_artery_disease', 'appetite', 'peda_edema',\n",
        "              'aanemia', 'class']"
      ],
      "metadata": {
        "id": "8A_N8q6bYIfb"
      },
      "execution_count": 115,
      "outputs": []
    },
    {
      "cell_type": "markdown",
      "source": [
        "#### Convert necessary columns to numerical type "
      ],
      "metadata": {
        "id": "eL8anJEfiZFt"
      }
    },
    {
      "cell_type": "code",
      "source": [
        "Data['packed_cell_volume'] = pd.to_numeric(Data['packed_cell_volume'], errors='coerce')\n",
        "Data['white_blood_cell_count'] = pd.to_numeric(Data['white_blood_cell_count'], errors='coerce')\n",
        "Data['red_blood_cell_count'] = pd.to_numeric(Data['red_blood_cell_count'], errors='coerce')"
      ],
      "metadata": {
        "id": "2w9A98iHYQhz"
      },
      "execution_count": 116,
      "outputs": []
    },
    {
      "cell_type": "markdown",
      "source": [
        "### Make a replace for incorect value "
      ],
      "metadata": {
        "id": "E1v1C9T4iphF"
      }
    },
    {
      "cell_type": "code",
      "source": [
        "Data['diabetes_mellitus'].replace(to_replace = {'\\tno':'no','\\tyes':'yes',' yes':'yes'},inplace=True)\n",
        "\n",
        "Data['coronary_artery_disease'] = Data['coronary_artery_disease'].replace(to_replace = '\\tno', value='no')\n",
        "\n",
        "Data['class'] = Data['class'].replace(to_replace = {'ckd\\t': 'ckd', 'notckd': 'not ckd'})"
      ],
      "metadata": {
        "id": "4uIb5UImYgK-"
      },
      "execution_count": 117,
      "outputs": []
    },
    {
      "cell_type": "markdown",
      "source": [
        "### Give class either 0 or 1"
      ],
      "metadata": {
        "id": "IIDoebLviyAJ"
      }
    },
    {
      "cell_type": "code",
      "source": [
        "Data['class'] = Data['class'].map({'ckd': 0, 'not ckd': 1})\n",
        "Data['class'] = pd.to_numeric(Data['class'], errors='coerce')"
      ],
      "metadata": {
        "id": "r6tmtazTYqVh"
      },
      "execution_count": 118,
      "outputs": []
    },
    {
      "cell_type": "markdown",
      "source": [
        "### Finding number of null values in the data set"
      ],
      "metadata": {
        "id": "k5Xnge821CEk"
      }
    },
    {
      "cell_type": "code",
      "source": [
        "Data.isnull().sum()"
      ],
      "metadata": {
        "id": "Ov4v5bjZLklM"
      },
      "execution_count": null,
      "outputs": []
    },
    {
      "cell_type": "code",
      "source": [
        "cols = ['diabetes_mellitus', 'coronary_artery_disease', 'class']\n",
        "\n",
        "for col in cols:\n",
        "    print(f\"{col} has {Data[col].unique()} values\\n\")"
      ],
      "metadata": {
        "id": "LdpkBVSuba6U"
      },
      "execution_count": null,
      "outputs": []
    },
    {
      "cell_type": "markdown",
      "source": [
        "### Extracting categorical and numerical columns"
      ],
      "metadata": {
        "id": "4QCqBJSLjFZC"
      }
    },
    {
      "cell_type": "code",
      "source": [
        "\n",
        "cat_cols = [col for col in Data.columns if Data[col].dtype == 'object']\n",
        "num_cols = [col for col in Data.columns if Data[col].dtype != 'object']"
      ],
      "metadata": {
        "id": "LT4GUhgwbg3Y"
      },
      "execution_count": 121,
      "outputs": []
    },
    {
      "cell_type": "markdown",
      "source": [
        "### Look at unique values in categorical columns"
      ],
      "metadata": {
        "id": "A_sHFzx5jRvD"
      }
    },
    {
      "cell_type": "code",
      "source": [
        "\n",
        "for col in cat_cols:\n",
        "    print(f\"{col} has {Data[col].unique()} values\\n\")"
      ],
      "metadata": {
        "id": "P5R9Ca9_bw1F"
      },
      "execution_count": null,
      "outputs": []
    },
    {
      "cell_type": "markdown",
      "source": [
        "### Fillna"
      ],
      "metadata": {
        "id": "_Qd2AT9bjlOq"
      }
    },
    {
      "cell_type": "code",
      "source": [
        "def random_value_imputation(feature):\n",
        "    random_sample = Data[feature].dropna().sample(Data[feature].isna().sum())\n",
        "    random_sample.index = Data[Data[feature].isnull()].index\n",
        "    Data.loc[Data[feature].isnull(), feature] = random_sample\n",
        "    \n",
        "def impute_mode(feature):\n",
        "    mode = Data[feature].mode()[0]\n",
        "    Data[feature] = Data[feature].fillna(mode)"
      ],
      "metadata": {
        "id": "tJTM-5Y2cRcK"
      },
      "execution_count": 123,
      "outputs": []
    },
    {
      "cell_type": "code",
      "source": [
        "for col in num_cols:\n",
        "    random_value_imputation(col)\n",
        "Data[num_cols].isnull().sum()"
      ],
      "metadata": {
        "id": "V4eTysUxcc3h"
      },
      "execution_count": null,
      "outputs": []
    },
    {
      "cell_type": "markdown",
      "source": [
        "### Fill \"red_blood_cells\" and \"pus_cell\" using random sampling method and rest of cat_cols using mode imputation"
      ],
      "metadata": {
        "id": "kOETGrmmjsJ4"
      }
    },
    {
      "cell_type": "code",
      "source": [
        "\n",
        "random_value_imputation('red_blood_cells')\n",
        "random_value_imputation('pus_cell')\n",
        "\n",
        "for col in cat_cols:\n",
        "    impute_mode(col)\n",
        "Data[cat_cols].isnull().sum()"
      ],
      "metadata": {
        "id": "vwXxOqbhg9jE"
      },
      "execution_count": null,
      "outputs": []
    },
    {
      "cell_type": "markdown",
      "source": [
        "### Dropping all the rows with na values"
      ],
      "metadata": {
        "id": "pPcMZ7b81Ed1"
      }
    },
    {
      "cell_type": "code",
      "source": [
        "\n",
        "newdata = Data.dropna(axis = 0)"
      ],
      "metadata": {
        "id": "CnuBp4dHLnHr"
      },
      "execution_count": 126,
      "outputs": []
    },
    {
      "cell_type": "markdown",
      "source": [
        "### Printing the shape of earlier data set and new data set"
      ],
      "metadata": {
        "id": "6dYmissF1GjN"
      }
    },
    {
      "cell_type": "code",
      "source": [
        "\n",
        "print(Data.shape)\n",
        "print(newdata.shape)"
      ],
      "metadata": {
        "id": "qIEv91pYOT4A"
      },
      "execution_count": null,
      "outputs": []
    },
    {
      "cell_type": "markdown",
      "source": [
        "### Seperating X and y variables"
      ],
      "metadata": {
        "id": "9rpplMzp1ItI"
      }
    },
    {
      "cell_type": "code",
      "source": [
        "\n",
        "X = Data.loc[:,'age':'aanemia']\n",
        "print(X.shape)\n",
        "y =Data.loc[:,'class':]\n",
        "print(y.shape)"
      ],
      "metadata": {
        "id": "0OQJq2KoLqVR"
      },
      "execution_count": null,
      "outputs": []
    },
    {
      "cell_type": "markdown",
      "source": [
        "### Splitting the data into train and test sets"
      ],
      "metadata": {
        "id": "ENUqI4VC1Lgc"
      }
    },
    {
      "cell_type": "code",
      "source": [
        "from sklearn.model_selection import train_test_split\n",
        "\n",
        "X_train, X_test, y_train, y_test = train_test_split(X, y, test_size=0.3, random_state=123)\n",
        "\n",
        "print(X_train.shape)\n",
        "print(X_test.shape)"
      ],
      "metadata": {
        "id": "sYTQey-PLvKT"
      },
      "execution_count": null,
      "outputs": []
    },
    {
      "cell_type": "markdown",
      "source": [
        "## Pipe line for Dummy creation\n"
      ],
      "metadata": {
        "id": "f6xqtDNUPAPF"
      }
    },
    {
      "cell_type": "code",
      "source": [
        "\n",
        "# Importing the necessary packages\n",
        "from sklearn.pipeline import Pipeline"
      ],
      "metadata": {
        "id": "eXZ62Js3O-YE"
      },
      "execution_count": 129,
      "outputs": []
    },
    {
      "cell_type": "code",
      "source": [
        "from sklearn.preprocessing import StandardScaler, OneHotEncoder\n",
        "# Pipeline for transforming categorical variables\n",
        "catTransformer = Pipeline(steps=[('onehot', OneHotEncoder(handle_unknown='ignore'))])\n",
        "# Pipeline for scaling numerical variables\n",
        "numTransformer = Pipeline(steps=[('scaler', StandardScaler())])"
      ],
      "metadata": {
        "id": "GMZ4ihXyPD0m"
      },
      "execution_count": 130,
      "outputs": []
    },
    {
      "cell_type": "markdown",
      "source": [
        "### Printing dtypes for X"
      ],
      "metadata": {
        "id": "yNZa_sRM1UXz"
      }
    },
    {
      "cell_type": "code",
      "source": [
        "\n",
        "X.dtypes"
      ],
      "metadata": {
        "id": "DLZzB6gePHoq"
      },
      "execution_count": null,
      "outputs": []
    },
    {
      "cell_type": "markdown",
      "source": [
        "### Selecting numerical features"
      ],
      "metadata": {
        "id": "4zwAYFh81a61"
      }
    },
    {
      "cell_type": "code",
      "source": [
        "\n",
        "numFeatures = X.select_dtypes(include=['int64', 'float64']).columns\n",
        "numFeatures"
      ],
      "metadata": {
        "id": "AtYkszFDPigl"
      },
      "execution_count": null,
      "outputs": []
    },
    {
      "cell_type": "markdown",
      "source": [
        "### Selecting Categorical features"
      ],
      "metadata": {
        "id": "iekWSN5n1dmL"
      }
    },
    {
      "cell_type": "code",
      "source": [
        "\n",
        "catFeatures = X.select_dtypes(include=['object']).columns\n",
        "catFeatures"
      ],
      "metadata": {
        "id": "tjpPlyqyPjTp"
      },
      "execution_count": null,
      "outputs": []
    },
    {
      "cell_type": "markdown",
      "source": [
        "### Creating the preprocessing engine"
      ],
      "metadata": {
        "id": "tLUZ-GlB1gPu"
      }
    },
    {
      "cell_type": "code",
      "source": [
        "from sklearn.compose import ColumnTransformer\n",
        "preprocessor = ColumnTransformer(\n",
        "    transformers=[\n",
        "        ('numeric', numTransformer, numFeatures),\n",
        "        ('categoric', catTransformer, catFeatures)])"
      ],
      "metadata": {
        "id": "PJUVTmLrPn7g"
      },
      "execution_count": 134,
      "outputs": []
    },
    {
      "cell_type": "markdown",
      "source": [
        "### Importing necessary libraries"
      ],
      "metadata": {
        "id": "6UVIvlwT1jkt"
      }
    },
    {
      "cell_type": "code",
      "source": [
        "\n",
        "from sklearn.decomposition import PCA\n",
        "from sklearn.ensemble import AdaBoostClassifier"
      ],
      "metadata": {
        "id": "f4ZxoGgFrznB"
      },
      "execution_count": 135,
      "outputs": []
    },
    {
      "cell_type": "markdown",
      "source": [
        "### Creating a pipeline with AdaBoostClassifier"
      ],
      "metadata": {
        "id": "Vumzu_VA1luc"
      }
    },
    {
      "cell_type": "code",
      "source": [
        "\n",
        "pipe = Pipeline(steps=[('preprocessor', preprocessor),\n",
        "                      ('dimred', PCA()),\n",
        "                           ('classifier',AdaBoostClassifier(random_state=123))])"
      ],
      "metadata": {
        "id": "GLlfB2Ctr1g3"
      },
      "execution_count": 136,
      "outputs": []
    },
    {
      "cell_type": "markdown",
      "source": [
        "### Defining the parameters as a dictionary"
      ],
      "metadata": {
        "id": "hcMbCJas1pw3"
      }
    },
    {
      "cell_type": "code",
      "source": [
        "\n",
        "param_grid = {'dimred__n_components':[4,6,10],\"classifier__n_estimators\": [50, 100,200],\"classifier__learning_rate\":[0.7,0.6,1.0]}\n"
      ],
      "metadata": {
        "id": "e9td5WEUr2In"
      },
      "execution_count": 137,
      "outputs": []
    },
    {
      "cell_type": "code",
      "source": [
        "from sklearn.model_selection import GridSearchCV\n",
        "# Fitting the grid search\n",
        "estimator = GridSearchCV(pipe, cv=10, param_grid=param_grid)"
      ],
      "metadata": {
        "id": "2aNF8n_rr71e"
      },
      "execution_count": 138,
      "outputs": []
    },
    {
      "cell_type": "markdown",
      "source": [
        "### Fitting the estimator on the training set"
      ],
      "metadata": {
        "id": "Otk8J88n1r7k"
      }
    },
    {
      "cell_type": "code",
      "source": [
        "estimator.fit(X_train,y_train)"
      ],
      "metadata": {
        "id": "gIyEuT1Ar-EY"
      },
      "execution_count": null,
      "outputs": []
    },
    {
      "cell_type": "markdown",
      "source": [
        "### Printing the best score and best parameters"
      ],
      "metadata": {
        "id": "vGoMOKfl1ux6"
      }
    },
    {
      "cell_type": "code",
      "source": [
        "\n",
        "print(\"Best: %f using %s\" % (estimator.best_score_, estimator.best_params_))\n"
      ],
      "metadata": {
        "id": "uJg3DGfZsBp_"
      },
      "execution_count": null,
      "outputs": []
    },
    {
      "cell_type": "markdown",
      "source": [
        "### Predicting with the best estimator"
      ],
      "metadata": {
        "id": "Zi7qVARg1yBW"
      }
    },
    {
      "cell_type": "code",
      "source": [
        "pred = estimator.predict(X_test)"
      ],
      "metadata": {
        "id": "693ZmJrQsLGI"
      },
      "execution_count": 86,
      "outputs": []
    },
    {
      "cell_type": "markdown",
      "source": [
        "### Printing the classification report"
      ],
      "metadata": {
        "id": "bxCREKqM10Y8"
      }
    },
    {
      "cell_type": "code",
      "source": [
        "from sklearn.metrics import classification_report\n",
        "\n",
        "print(classification_report(pred,y_test))"
      ],
      "metadata": {
        "id": "NchOpxw0sNH-"
      },
      "execution_count": null,
      "outputs": []
    }
  ]
}