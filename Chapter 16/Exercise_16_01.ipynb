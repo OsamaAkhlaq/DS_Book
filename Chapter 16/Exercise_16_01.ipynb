{
  "nbformat": 4,
  "nbformat_minor": 0,
  "metadata": {
    "colab": {
      "name": "Exercise_16_01.ipynb",
      "provenance": [],
      "collapsed_sections": []
    },
    "kernelspec": {
      "name": "python3",
      "display_name": "Python 3"
    },
    "language_info": {
      "name": "python"
    }
  },
  "cells": [
    {
      "cell_type": "markdown",
      "source": [
        "## **Exercise 16.01: Guided Exercise**\n",
        "### Preparing the dataset to implement pipelines"
      ],
      "metadata": {
        "id": "hhjj_LMkoj4B"
      }
    },
    {
      "cell_type": "markdown",
      "source": [
        "### Importing modules"
      ],
      "metadata": {
        "id": "KclBP7T9o7ha"
      }
    },
    {
      "cell_type": "code",
      "execution_count": 1,
      "metadata": {
        "id": "DHkHVZAlInQn"
      },
      "outputs": [],
      "source": [
        "import pandas as pd"
      ]
    },
    {
      "cell_type": "markdown",
      "source": [
        "### Loading Data"
      ],
      "metadata": {
        "id": "mOHDLC4Jo-uE"
      }
    },
    {
      "cell_type": "code",
      "source": [
        "filename = 'https://raw.githubusercontent.com/OsamaAkhlaq/DS_Book/main/Chapter%2016/pima-indians-diabetes.csv'\n",
        "\n",
        "# Loading the data using pandas\n",
        "diabData = pd.read_csv(filename,sep=\",\",header = None,na_values = \"?\")\n",
        "diabData.head()"
      ],
      "metadata": {
        "id": "JNpUa4gEI2nl"
      },
      "execution_count": null,
      "outputs": []
    },
    {
      "cell_type": "markdown",
      "source": [
        "###  Finding number of null values in the data set"
      ],
      "metadata": {
        "id": "UF6R4HsVpK9S"
      }
    },
    {
      "cell_type": "code",
      "source": [
        "diabData.isnull().sum()"
      ],
      "metadata": {
        "id": "Ov4v5bjZLklM"
      },
      "execution_count": null,
      "outputs": []
    },
    {
      "cell_type": "markdown",
      "source": [
        "### Dropping all the rows with na values"
      ],
      "metadata": {
        "id": "pZRp8FS4pN53"
      }
    },
    {
      "cell_type": "code",
      "source": [
        "\n",
        "newdiabdata = diabData.dropna(axis = 0)"
      ],
      "metadata": {
        "id": "CnuBp4dHLnHr"
      },
      "execution_count": null,
      "outputs": []
    },
    {
      "cell_type": "code",
      "source": [
        "# Printing the shape of earlier data set and new data set\n",
        "print(diabData.shape)\n",
        "print(newdiabdata.shape)"
      ],
      "metadata": {
        "id": "qIEv91pYOT4A"
      },
      "execution_count": null,
      "outputs": []
    },
    {
      "cell_type": "code",
      "source": [
        "# Seperating X and y variables\n",
        "X = newdiabdata.loc[:,0:3]\n",
        "print(X.shape)\n",
        "y = newdiabdata.loc[:,4]\n",
        "print(y.shape)"
      ],
      "metadata": {
        "id": "0OQJq2KoLqVR"
      },
      "execution_count": null,
      "outputs": []
    },
    {
      "cell_type": "markdown",
      "source": [
        "### Splitting the data into train and test sets"
      ],
      "metadata": {
        "id": "rQYAJk2vpTas"
      }
    },
    {
      "cell_type": "code",
      "source": [
        "from sklearn.model_selection import train_test_split\n",
        "\n",
        "X_train, X_test, y_train, y_test = train_test_split(X, y, test_size=0.3, random_state=123)\n",
        "\n",
        "print(X_train.shape)\n",
        "print(X_test.shape)"
      ],
      "metadata": {
        "id": "sYTQey-PLvKT"
      },
      "execution_count": null,
      "outputs": []
    }
  ]
}