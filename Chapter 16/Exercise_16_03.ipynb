{
  "nbformat": 4,
  "nbformat_minor": 0,
  "metadata": {
    "colab": {
      "name": "Exercise_16_03.ipynb",
      "provenance": []
    },
    "kernelspec": {
      "name": "python3",
      "display_name": "Python 3"
    },
    "language_info": {
      "name": "python"
    }
  },
  "cells": [
    {
      "cell_type": "markdown",
      "source": [
        "## **Exercise 16.03: Guided Exercise**\n",
        "### Adding dimensionality reduction to the feature extraction pipeline"
      ],
      "metadata": {
        "id": "uc6ebd8yuXox"
      }
    },
    {
      "cell_type": "markdown",
      "source": [
        "### Importing modules"
      ],
      "metadata": {
        "id": "cS2ibDOvugI3"
      }
    },
    {
      "cell_type": "code",
      "execution_count": 1,
      "metadata": {
        "id": "DHkHVZAlInQn"
      },
      "outputs": [],
      "source": [
        "import pandas as pd"
      ]
    },
    {
      "cell_type": "markdown",
      "source": [
        "### Loading data"
      ],
      "metadata": {
        "id": "43T0r5QlukDK"
      }
    },
    {
      "cell_type": "code",
      "source": [
        "\n",
        "filename = 'https://raw.githubusercontent.com/OsamaAkhlaq/DS_Book/main/Chapter%2016/pima-indians-diabetes.csv'\n",
        "# Loading the data using pandas\n",
        "\n",
        "diabData = pd.read_csv(filename,sep=\",\",header = None,na_values = \"?\")\n",
        "diabData.head()"
      ],
      "metadata": {
        "id": "JNpUa4gEI2nl"
      },
      "execution_count": null,
      "outputs": []
    },
    {
      "cell_type": "markdown",
      "source": [
        "### Finding number of null values in the data set"
      ],
      "metadata": {
        "id": "7t5m-qy3unX6"
      }
    },
    {
      "cell_type": "code",
      "source": [
        "\n",
        "diabData.isnull().sum()"
      ],
      "metadata": {
        "id": "Ov4v5bjZLklM"
      },
      "execution_count": null,
      "outputs": []
    },
    {
      "cell_type": "markdown",
      "source": [
        "### Dropping all the rows with na values"
      ],
      "metadata": {
        "id": "7L6xJL2nuro1"
      }
    },
    {
      "cell_type": "code",
      "source": [
        "\n",
        "newdiabdata = diabData.dropna(axis = 0)"
      ],
      "metadata": {
        "id": "CnuBp4dHLnHr"
      },
      "execution_count": 4,
      "outputs": []
    },
    {
      "cell_type": "markdown",
      "source": [
        "### Printing the shape of earlier data set and new data set"
      ],
      "metadata": {
        "id": "u-awXG9Duuqb"
      }
    },
    {
      "cell_type": "code",
      "source": [
        "\n",
        "print(diabData.shape)\n",
        "print(newdiabdata.shape)"
      ],
      "metadata": {
        "id": "qIEv91pYOT4A"
      },
      "execution_count": null,
      "outputs": []
    },
    {
      "cell_type": "markdown",
      "source": [
        "### Seperating X and y variables"
      ],
      "metadata": {
        "id": "INkhwTgnuyx8"
      }
    },
    {
      "cell_type": "code",
      "source": [
        "X = newdiabdata.loc[:,0:8]\n",
        "print(X.shape)\n",
        "y = newdiabdata.loc[:,8]\n",
        "print(y.shape)"
      ],
      "metadata": {
        "id": "0OQJq2KoLqVR"
      },
      "execution_count": null,
      "outputs": []
    },
    {
      "cell_type": "markdown",
      "source": [
        "### Splitting the data into train and test sets"
      ],
      "metadata": {
        "id": "BQfofzLSu2FV"
      }
    },
    {
      "cell_type": "code",
      "source": [
        "from sklearn.model_selection import train_test_split\n",
        "\n",
        "X_train, X_test, y_train, y_test = train_test_split(X, y, test_size=0.3, random_state=123)\n",
        "\n",
        "print(X_train.shape)\n",
        "print(X_test.shape)"
      ],
      "metadata": {
        "id": "sYTQey-PLvKT"
      },
      "execution_count": null,
      "outputs": []
    },
    {
      "cell_type": "markdown",
      "source": [
        "## Pipe line for Dummy creation\n"
      ],
      "metadata": {
        "id": "f6xqtDNUPAPF"
      }
    },
    {
      "cell_type": "markdown",
      "source": [
        "### Importing the necessary packages"
      ],
      "metadata": {
        "id": "6hvgZj8eu5Ii"
      }
    },
    {
      "cell_type": "code",
      "source": [
        "from sklearn.pipeline import Pipeline"
      ],
      "metadata": {
        "id": "eXZ62Js3O-YE"
      },
      "execution_count": 8,
      "outputs": []
    },
    {
      "cell_type": "code",
      "source": [
        "from sklearn.preprocessing import StandardScaler, OneHotEncoder\n",
        "# Pipeline for transforming categorical variables\n",
        "catTransformer = Pipeline(steps=[('onehot', OneHotEncoder(handle_unknown='ignore'))])\n",
        "# Pipeline for scaling numerical variables\n",
        "numTransformer = Pipeline(steps=[('scaler', StandardScaler())])"
      ],
      "metadata": {
        "id": "GMZ4ihXyPD0m"
      },
      "execution_count": 9,
      "outputs": []
    },
    {
      "cell_type": "markdown",
      "source": [
        "### Printing dtypes for X"
      ],
      "metadata": {
        "id": "G_btip7Su8jD"
      }
    },
    {
      "cell_type": "code",
      "source": [
        "X.dtypes"
      ],
      "metadata": {
        "id": "DLZzB6gePHoq"
      },
      "execution_count": null,
      "outputs": []
    },
    {
      "cell_type": "markdown",
      "source": [
        "### Selecting numerical features"
      ],
      "metadata": {
        "id": "-4uhrwn5u_qF"
      }
    },
    {
      "cell_type": "code",
      "source": [
        "numFeatures = X.select_dtypes(include=['int64', 'float64']).columns\n",
        "\n",
        "numFeatures"
      ],
      "metadata": {
        "id": "AtYkszFDPigl"
      },
      "execution_count": null,
      "outputs": []
    },
    {
      "cell_type": "markdown",
      "source": [
        "### Selecting Categorical features"
      ],
      "metadata": {
        "id": "2zcEsb7IvCSY"
      }
    },
    {
      "cell_type": "code",
      "source": [
        "catFeatures = X.select_dtypes(include=['object']).columns\n",
        "catFeatures"
      ],
      "metadata": {
        "id": "tjpPlyqyPjTp",
        "colab": {
          "base_uri": "https://localhost:8080/"
        },
        "outputId": "daa5b4e4-78f2-4373-b89f-4ae7ee102007"
      },
      "execution_count": 13,
      "outputs": [
        {
          "output_type": "execute_result",
          "data": {
            "text/plain": [
              "Int64Index([], dtype='int64')"
            ]
          },
          "metadata": {},
          "execution_count": 13
        }
      ]
    },
    {
      "cell_type": "markdown",
      "source": [
        "### Creating the preprocessing engine"
      ],
      "metadata": {
        "id": "GnUB0kjFvFaL"
      }
    },
    {
      "cell_type": "code",
      "source": [
        "\n",
        "from sklearn.compose import ColumnTransformer\n",
        "preprocessor = ColumnTransformer(\n",
        "    transformers=[\n",
        "        ('numeric', numTransformer, numFeatures),\n",
        "        ('categoric', catTransformer, catFeatures)])"
      ],
      "metadata": {
        "id": "PJUVTmLrPn7g"
      },
      "execution_count": 14,
      "outputs": []
    },
    {
      "cell_type": "markdown",
      "source": [
        "### Transforming the Training data"
      ],
      "metadata": {
        "id": "KBzy2hxkvHkA"
      }
    },
    {
      "cell_type": "code",
      "source": [
        "Xtran_train = pd.DataFrame(preprocessor.fit_transform(X_train))\n",
        "print(Xtran_train.shape)\n",
        "Xtran_train.head()"
      ],
      "metadata": {
        "id": "oRGcOjkIPqCd"
      },
      "execution_count": null,
      "outputs": []
    },
    {
      "cell_type": "markdown",
      "source": [
        "### Transforming Test data"
      ],
      "metadata": {
        "id": "H8yx2kGKvLGA"
      }
    },
    {
      "cell_type": "code",
      "source": [
        "Xtran_test = pd.DataFrame(preprocessor.transform(X_test))\n",
        "print(Xtran_test.shape)\n",
        "Xtran_test.head()"
      ],
      "metadata": {
        "id": "-tGkJ7H3Pssg"
      },
      "execution_count": null,
      "outputs": []
    },
    {
      "cell_type": "markdown",
      "source": [
        "## Dimensionality reduction after processing with Pipeline"
      ],
      "metadata": {
        "id": "WODS6H96Q7hO"
      }
    },
    {
      "cell_type": "code",
      "source": [
        "# Importing PCA library\n",
        "from sklearn.decomposition import PCA"
      ],
      "metadata": {
        "id": "c-38CdKhQ5XB"
      },
      "execution_count": 17,
      "outputs": []
    },
    {
      "cell_type": "markdown",
      "source": [
        "### Creating an estimator with both preprocessor and dimensionality reduction"
      ],
      "metadata": {
        "id": "KGNQN0zYx303"
      }
    },
    {
      "cell_type": "code",
      "source": [
        "estimator = Pipeline(steps=[('preprocessor', preprocessor),\n",
        "                      ('dimred', PCA(5))])"
      ],
      "metadata": {
        "id": "s4MPjWKSQ9_U"
      },
      "execution_count": 18,
      "outputs": []
    },
    {
      "cell_type": "markdown",
      "source": [
        "### Fitting and transforming Train set"
      ],
      "metadata": {
        "id": "iwjaoW0Bx60R"
      }
    },
    {
      "cell_type": "code",
      "source": [
        "\n",
        "Xtran_train = pd.DataFrame(estimator.fit_transform(X_train))\n",
        "\n",
        "print(Xtran_train.shape)\n",
        "Xtran_train.head()"
      ],
      "metadata": {
        "id": "-ymwgl3tTMO0"
      },
      "execution_count": null,
      "outputs": []
    },
    {
      "cell_type": "markdown",
      "source": [
        "### Transforming test set"
      ],
      "metadata": {
        "id": "F_1TJea5x9vf"
      }
    },
    {
      "cell_type": "code",
      "source": [
        "Xtran_test = pd.DataFrame(estimator.transform(X_test))\n",
        "print(Xtran_test.shape)\n",
        "Xtran_test.head()"
      ],
      "metadata": {
        "id": "3mC7Cg7dTPEM"
      },
      "execution_count": null,
      "outputs": []
    }
  ]
}